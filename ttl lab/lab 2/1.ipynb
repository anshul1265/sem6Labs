{
 "cells": [
  {
   "attachments": {},
   "cell_type": "markdown",
   "metadata": {},
   "source": [
    "String"
   ]
  },
  {
   "cell_type": "code",
   "execution_count": 1,
   "metadata": {},
   "outputs": [
    {
     "name": "stdout",
     "output_type": "stream",
     "text": [
      "hello world!\n",
      "h\n",
      "llo\n",
      "llo world!\n",
      "hello world!hello world!\n",
      "hello world!Test\n"
     ]
    }
   ],
   "source": [
    "str1='hello world!'\n",
    "print(str1)\n",
    "print(str1[0])\n",
    "print(str1[2:5])\n",
    "print(str1[2:])\n",
    "print(str1*2)\n",
    "print(str1+\"Test\")"
   ]
  },
  {
   "cell_type": "code",
   "execution_count": 9,
   "metadata": {},
   "outputs": [
    {
     "data": {
      "text/plain": [
       "'HELLO WORLD!'"
      ]
     },
     "execution_count": 9,
     "metadata": {},
     "output_type": "execute_result"
    }
   ],
   "source": [
    "str1.upper()"
   ]
  },
  {
   "cell_type": "code",
   "execution_count": 10,
   "metadata": {},
   "outputs": [
    {
     "data": {
      "text/plain": [
       "'hello world!'"
      ]
     },
     "execution_count": 10,
     "metadata": {},
     "output_type": "execute_result"
    }
   ],
   "source": [
    "str1.lower()"
   ]
  },
  {
   "attachments": {},
   "cell_type": "markdown",
   "metadata": {},
   "source": [
    "store elements of a string to the list"
   ]
  },
  {
   "cell_type": "code",
   "execution_count": 11,
   "metadata": {},
   "outputs": [
    {
     "data": {
      "text/plain": [
       "['hello', 'world!']"
      ]
     },
     "execution_count": 11,
     "metadata": {},
     "output_type": "execute_result"
    }
   ],
   "source": [
    "strList=str1.split(\" \")\n",
    "strList"
   ]
  },
  {
   "attachments": {},
   "cell_type": "markdown",
   "metadata": {},
   "source": [
    "Conditional Statements and Loops"
   ]
  },
  {
   "cell_type": "code",
   "execution_count": 12,
   "metadata": {},
   "outputs": [
    {
     "name": "stdout",
     "output_type": "stream",
     "text": [
      "not 6\n"
     ]
    }
   ],
   "source": [
    "a = 7\n",
    "if(a==6):\n",
    "    print(a)\n",
    "else:\n",
    "    print(\"not 6\")"
   ]
  },
  {
   "cell_type": "code",
   "execution_count": 13,
   "metadata": {},
   "outputs": [
    {
     "name": "stdout",
     "output_type": "stream",
     "text": [
      "79\n"
     ]
    }
   ],
   "source": [
    "b = input(\"enter the no. : \")\n",
    "print(2+int(b))"
   ]
  },
  {
   "cell_type": "code",
   "execution_count": 3,
   "metadata": {},
   "outputs": [
    {
     "name": "stdout",
     "output_type": "stream",
     "text": [
      "[2, 9]\n",
      "['helo', 'hii']\n",
      "[5.2, 1.2]\n"
     ]
    }
   ],
   "source": [
    "list=[2, 'helo', 5.2, 9, \"hii\", 1.2]\n",
    "slist=[]\n",
    "ilist=[]\n",
    "clist=[]\n",
    "for elem in list:\n",
    "    if(type(elem)==int):\n",
    "        ilist.append(elem)\n",
    "    elif(type(elem)==str):\n",
    "        slist.append(elem)\n",
    "    elif(type(elem)==float):\n",
    "        clist.append(elem)\n",
    "print(ilist)\n",
    "print(slist)\n",
    "print(clist)"
   ]
  },
  {
   "cell_type": "code",
   "execution_count": 15,
   "metadata": {},
   "outputs": [
    {
     "name": "stdout",
     "output_type": "stream",
     "text": [
      "0 3 6 9 \n",
      "0 -1 -2 -3 "
     ]
    }
   ],
   "source": [
    "for i in range(0, 10, 3):\n",
    "    print(i, end=\" \")\n",
    "print()\n",
    "for i in range(0, -4, -1):\n",
    "    print(i, end=\" \")"
   ]
  },
  {
   "attachments": {},
   "cell_type": "markdown",
   "metadata": {},
   "source": [
    "Functions"
   ]
  },
  {
   "cell_type": "code",
   "execution_count": 16,
   "metadata": {},
   "outputs": [
    {
     "name": "stdout",
     "output_type": "stream",
     "text": [
      "Inside :  [7, 3, [1, 2, 3, 4]]\n",
      "Outside :  [7, 3, [1, 2, 3, 4]]\n"
     ]
    }
   ],
   "source": [
    "def myFunction(myList):\n",
    "    myList.append([1, 2, 3, 4])\n",
    "    print(\"Inside : \", myList)\n",
    "    return\n",
    "\n",
    "myList = [7, 3]\n",
    "myFunction(myList)\n",
    "print(\"Outside : \", myList)"
   ]
  },
  {
   "cell_type": "code",
   "execution_count": 17,
   "metadata": {},
   "outputs": [
    {
     "name": "stdout",
     "output_type": "stream",
     "text": [
      "Inside :  30\n",
      "Outside :  0\n"
     ]
    }
   ],
   "source": [
    "total=0\n",
    "\n",
    "def sum(arg1, arg2):\n",
    "    total=arg1+arg2\n",
    "    print(\"Inside : \", total)\n",
    "    return total\n",
    "\n",
    "sum(10, 20)\n",
    "print(\"Outside : \", total)"
   ]
  },
  {
   "attachments": {},
   "cell_type": "markdown",
   "metadata": {},
   "source": [
    "Data Frame"
   ]
  },
  {
   "cell_type": "code",
   "execution_count": 18,
   "metadata": {},
   "outputs": [
    {
     "name": "stdout",
     "output_type": "stream",
     "text": [
      "        0\n",
      "0   Geeks\n",
      "1     For\n",
      "2   Geeks\n",
      "3      is\n",
      "4  portal\n",
      "5     for\n",
      "6   geeks\n"
     ]
    }
   ],
   "source": [
    "import pandas as pd\n",
    "list=['Geeks', 'For', \"Geeks\", \"is\", \"portal\", \"for\", \"geeks\"]\n",
    "df=pd.DataFrame(list)\n",
    "print(df)"
   ]
  },
  {
   "cell_type": "code",
   "execution_count": 19,
   "metadata": {},
   "outputs": [
    {
     "name": "stdout",
     "output_type": "stream",
     "text": [
      "    name  age\n",
      "0  Rohit   20\n",
      "1   Jeet   25\n"
     ]
    }
   ],
   "source": [
    "import pandas as pd\n",
    "dict={'name':['Rohit', \"Jeet\"], 'age': [20, 25]}\n",
    "df=pd.DataFrame(dict)\n",
    "print(df)"
   ]
  },
  {
   "cell_type": "code",
   "execution_count": 20,
   "metadata": {},
   "outputs": [
    {
     "name": "stdout",
     "output_type": "stream",
     "text": [
      "     name qualification\n",
      "0     jai           MSc\n",
      "1  prince            MA\n",
      "2  gaurav           MCA\n",
      "3    anuj           Phd\n",
      "22\n"
     ]
    }
   ],
   "source": [
    "data={'name': ['jai', 'prince', 'gaurav', 'anuj'], 'age': [27, 24, 22, 32], 'address': ['delhi', 'kanpur', 'allahabad', 'kannauj'], 'qualification': ['MSc', 'MA', \"MCA\", 'Phd']}\n",
    "\n",
    "# print(df)\n",
    "df2=pd.DataFrame(data)\n",
    "print(df2[['name', 'qualification']])\n",
    "row2=df2.iloc[2, 1]\n",
    "row2\n",
    "print(row2)"
   ]
  },
  {
   "attachments": {},
   "cell_type": "markdown",
   "metadata": {},
   "source": [
    "Anshul Singla\n",
    "CSE-1\n",
    "20051562\n",
    "16/01/2023"
   ]
  }
 ],
 "metadata": {
  "kernelspec": {
   "display_name": "Python 3",
   "language": "python",
   "name": "python3"
  },
  "language_info": {
   "codemirror_mode": {
    "name": "ipython",
    "version": 3
   },
   "file_extension": ".py",
   "mimetype": "text/x-python",
   "name": "python",
   "nbconvert_exporter": "python",
   "pygments_lexer": "ipython3",
   "version": "3.10.6"
  },
  "orig_nbformat": 4,
  "vscode": {
   "interpreter": {
    "hash": "369f2c481f4da34e4445cda3fffd2e751bd1c4d706f27375911949ba6bb62e1c"
   }
  }
 },
 "nbformat": 4,
 "nbformat_minor": 2
}
