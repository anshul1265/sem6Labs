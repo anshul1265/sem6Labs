{
 "cells": [
  {
   "cell_type": "code",
   "execution_count": 20,
   "metadata": {},
   "outputs": [
    {
     "name": "stdout",
     "output_type": "stream",
     "text": [
      "           abilities  against_bug  against_dark  against_dragon  \\\n",
      "796  ['Beast Boost']         0.25           1.0             0.5   \n",
      "797  ['Beast Boost']         1.00           1.0             0.5   \n",
      "798  ['Beast Boost']         2.00           0.5             2.0   \n",
      "799  ['Prism Armor']         2.00           2.0             1.0   \n",
      "800   ['Soul-Heart']         0.25           0.5             0.0   \n",
      "\n",
      "     against_electric  against_fairy  against_fight  against_fire  \\\n",
      "796               2.0            0.5            1.0           2.0   \n",
      "797               0.5            0.5            2.0           4.0   \n",
      "798               0.5            4.0            2.0           0.5   \n",
      "799               1.0            1.0            0.5           1.0   \n",
      "800               1.0            0.5            1.0           2.0   \n",
      "\n",
      "     against_flying  against_ghost  ...  percentage_male  pokedex_number  \\\n",
      "796             0.5            1.0  ...              NaN             797   \n",
      "797             1.0            1.0  ...              NaN             798   \n",
      "798             1.0            0.5  ...              NaN             799   \n",
      "799             1.0            2.0  ...              NaN             800   \n",
      "800             0.5            1.0  ...              NaN             801   \n",
      "\n",
      "     sp_attack  sp_defense  speed    type1   type2  weight_kg  generation  \\\n",
      "796        107         101     61    steel  flying      999.9           7   \n",
      "797         59          31    109    grass   steel        0.1           7   \n",
      "798         97          53     43     dark  dragon      888.0           7   \n",
      "799        127          89     79  psychic     NaN      230.0           7   \n",
      "800        130         115     65    steel   fairy       80.5           7   \n",
      "\n",
      "     is_legendary  \n",
      "796             1  \n",
      "797             1  \n",
      "798             1  \n",
      "799             1  \n",
      "800             1  \n",
      "\n",
      "[5 rows x 41 columns]\n"
     ]
    }
   ],
   "source": [
    "import pandas as pd\n",
    "data=pd.read_csv(\"C:/Users/KIIT/Desktop/study material/vs code follder/ttl lab/lab 2/pokemon.csv\")\n",
    "data.head(10)\n",
    "print(data.tail(5))\n",
    "\n",
    "# data=pd.read_excel('path')"
   ]
  },
  {
   "cell_type": "code",
   "execution_count": 18,
   "metadata": {},
   "outputs": [
    {
     "name": "stdout",
     "output_type": "stream",
     "text": [
      "Index(['abilities', 'against_bug', 'against_dark', 'against_dragon',\n",
      "       'against_electric', 'against_fairy', 'against_fight', 'against_fire',\n",
      "       'against_flying', 'against_ghost', 'against_grass', 'against_ground',\n",
      "       'against_ice', 'against_normal', 'against_poison', 'against_psychic',\n",
      "       'against_rock', 'against_steel', 'against_water', 'attack',\n",
      "       'base_egg_steps', 'base_happiness', 'base_total', 'capture_rate',\n",
      "       'classfication', 'defense', 'experience_growth', 'height_m', 'hp',\n",
      "       'japanese_name', 'name', 'percentage_male', 'pokedex_number',\n",
      "       'sp_attack', 'sp_defense', 'speed', 'type1', 'type2', 'weight_kg',\n",
      "       'generation', 'is_legendary'],\n",
      "      dtype='object')\n"
     ]
    },
    {
     "ename": "AttributeError",
     "evalue": "'DataFrame' object has no attribute 'columnname'",
     "output_type": "error",
     "traceback": [
      "\u001b[1;31m---------------------------------------------------------------------------\u001b[0m",
      "\u001b[1;31mAttributeError\u001b[0m                            Traceback (most recent call last)",
      "Cell \u001b[1;32mIn[18], line 3\u001b[0m\n\u001b[0;32m      1\u001b[0m \u001b[39mprint\u001b[39m(data\u001b[39m.\u001b[39mcolumns)\n\u001b[0;32m      2\u001b[0m \u001b[39m# print(data['columnname'])\u001b[39;00m\n\u001b[1;32m----> 3\u001b[0m \u001b[39mprint\u001b[39m(data\u001b[39m.\u001b[39;49mcolumnname)\n\u001b[0;32m      4\u001b[0m \u001b[39m# print(data[['Columnname', 'Columnname2', 'Columnname3']])\u001b[39;00m\n\u001b[0;32m      5\u001b[0m \u001b[39m# print(data.describe)\u001b[39;00m\n",
      "File \u001b[1;32mc:\\Python310\\lib\\site-packages\\pandas\\core\\generic.py:5902\u001b[0m, in \u001b[0;36mNDFrame.__getattr__\u001b[1;34m(self, name)\u001b[0m\n\u001b[0;32m   5895\u001b[0m \u001b[39mif\u001b[39;00m (\n\u001b[0;32m   5896\u001b[0m     name \u001b[39mnot\u001b[39;00m \u001b[39min\u001b[39;00m \u001b[39mself\u001b[39m\u001b[39m.\u001b[39m_internal_names_set\n\u001b[0;32m   5897\u001b[0m     \u001b[39mand\u001b[39;00m name \u001b[39mnot\u001b[39;00m \u001b[39min\u001b[39;00m \u001b[39mself\u001b[39m\u001b[39m.\u001b[39m_metadata\n\u001b[0;32m   5898\u001b[0m     \u001b[39mand\u001b[39;00m name \u001b[39mnot\u001b[39;00m \u001b[39min\u001b[39;00m \u001b[39mself\u001b[39m\u001b[39m.\u001b[39m_accessors\n\u001b[0;32m   5899\u001b[0m     \u001b[39mand\u001b[39;00m \u001b[39mself\u001b[39m\u001b[39m.\u001b[39m_info_axis\u001b[39m.\u001b[39m_can_hold_identifiers_and_holds_name(name)\n\u001b[0;32m   5900\u001b[0m ):\n\u001b[0;32m   5901\u001b[0m     \u001b[39mreturn\u001b[39;00m \u001b[39mself\u001b[39m[name]\n\u001b[1;32m-> 5902\u001b[0m \u001b[39mreturn\u001b[39;00m \u001b[39mobject\u001b[39;49m\u001b[39m.\u001b[39;49m\u001b[39m__getattribute__\u001b[39;49m(\u001b[39mself\u001b[39;49m, name)\n",
      "\u001b[1;31mAttributeError\u001b[0m: 'DataFrame' object has no attribute 'columnname'"
     ]
    }
   ],
   "source": [
    "print(data.columns)\n",
    "print(data['columnname'])\n",
    "print(data.columnname)\n",
    "print(data[['Columnname', 'Columnname2', 'Columnname3']])\n",
    "print(data.describe)"
   ]
  }
 ],
 "metadata": {
  "kernelspec": {
   "display_name": "Python 3",
   "language": "python",
   "name": "python3"
  },
  "language_info": {
   "codemirror_mode": {
    "name": "ipython",
    "version": 3
   },
   "file_extension": ".py",
   "mimetype": "text/x-python",
   "name": "python",
   "nbconvert_exporter": "python",
   "pygments_lexer": "ipython3",
   "version": "3.10.6 (tags/v3.10.6:9c7b4bd, Aug  1 2022, 21:53:49) [MSC v.1932 64 bit (AMD64)]"
  },
  "orig_nbformat": 4,
  "vscode": {
   "interpreter": {
    "hash": "369f2c481f4da34e4445cda3fffd2e751bd1c4d706f27375911949ba6bb62e1c"
   }
  }
 },
 "nbformat": 4,
 "nbformat_minor": 2
}
