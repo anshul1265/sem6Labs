{
 "cells": [
  {
   "cell_type": "markdown",
   "id": "553bfa72",
   "metadata": {},
   "source": [
    "# Lab-5"
   ]
  },
  {
   "cell_type": "markdown",
   "id": "c305e02e",
   "metadata": {},
   "source": [
    "### extracting tables from HTML pages"
   ]
  },
  {
   "cell_type": "code",
   "execution_count": 114,
   "id": "cabb4d7f",
   "metadata": {},
   "outputs": [
    {
     "data": {
      "text/plain": [
       "19"
      ]
     },
     "execution_count": 114,
     "metadata": {},
     "output_type": "execute_result"
    }
   ],
   "source": [
    "import pandas as pd\n",
    "s=pd.read_html('https://en.wikipedia.org/wiki/List_of_weather_records')\n",
    "len(s)"
   ]
  },
  {
   "cell_type": "code",
   "execution_count": 115,
   "id": "60ef6b30",
   "metadata": {
    "scrolled": true
   },
   "outputs": [
    {
     "data": {
      "text/html": [
       "<div>\n",
       "<style scoped>\n",
       "    .dataframe tbody tr th:only-of-type {\n",
       "        vertical-align: middle;\n",
       "    }\n",
       "\n",
       "    .dataframe tbody tr th {\n",
       "        vertical-align: top;\n",
       "    }\n",
       "\n",
       "    .dataframe thead th {\n",
       "        text-align: right;\n",
       "    }\n",
       "</style>\n",
       "<table border=\"1\" class=\"dataframe\">\n",
       "  <thead>\n",
       "    <tr style=\"text-align: right;\">\n",
       "      <th></th>\n",
       "      <th>Country/Region</th>\n",
       "      <th>Temperature</th>\n",
       "      <th>Town/Location</th>\n",
       "      <th>Date</th>\n",
       "    </tr>\n",
       "  </thead>\n",
       "  <tbody>\n",
       "    <tr>\n",
       "      <th>0</th>\n",
       "      <td>Algeria</td>\n",
       "      <td>51.3 °C (124.3 °F)</td>\n",
       "      <td>El Bayadh, El Bayadh ProvinceOuargla, Ouargla ...</td>\n",
       "      <td>2 September 1979[18]5 July 2018[19]</td>\n",
       "    </tr>\n",
       "    <tr>\n",
       "      <th>1</th>\n",
       "      <td>Botswana</td>\n",
       "      <td>44.0 °C (111.2 °F)</td>\n",
       "      <td>Maun</td>\n",
       "      <td>7 January 2016[20][21]</td>\n",
       "    </tr>\n",
       "    <tr>\n",
       "      <th>2</th>\n",
       "      <td>Burkina Faso</td>\n",
       "      <td>47.2 °C (117.0 °F)</td>\n",
       "      <td>Dori</td>\n",
       "      <td>1984[22]</td>\n",
       "    </tr>\n",
       "    <tr>\n",
       "      <th>3</th>\n",
       "      <td>Chad</td>\n",
       "      <td>47.6 °C (117.7 °F)</td>\n",
       "      <td>Faya-Largeau</td>\n",
       "      <td>22 June 2010[23]</td>\n",
       "    </tr>\n",
       "    <tr>\n",
       "      <th>4</th>\n",
       "      <td>Comoros</td>\n",
       "      <td>36.0 °C (96.8 °F)</td>\n",
       "      <td>Hahaya International Airport</td>\n",
       "      <td>15 November 2017[24]</td>\n",
       "    </tr>\n",
       "    <tr>\n",
       "      <th>5</th>\n",
       "      <td>Eswatini (Swaziland)</td>\n",
       "      <td>47.4 °C (117.3 °F)</td>\n",
       "      <td>Lavumisa</td>\n",
       "      <td>?[25]</td>\n",
       "    </tr>\n",
       "    <tr>\n",
       "      <th>6</th>\n",
       "      <td>Gambia</td>\n",
       "      <td>49.0 °C (120.2 °F)</td>\n",
       "      <td>Jenoi</td>\n",
       "      <td>2001[26]</td>\n",
       "    </tr>\n",
       "    <tr>\n",
       "      <th>7</th>\n",
       "      <td>Ghana</td>\n",
       "      <td>43.8 °C (110.8 °F)</td>\n",
       "      <td>Navrongo</td>\n",
       "      <td>26 March 2017[24]</td>\n",
       "    </tr>\n",
       "    <tr>\n",
       "      <th>8</th>\n",
       "      <td>Guinea</td>\n",
       "      <td>45.0 °C (113.0 °F)</td>\n",
       "      <td>Koundara, Boké Region</td>\n",
       "      <td>29 March 2017[24]</td>\n",
       "    </tr>\n",
       "    <tr>\n",
       "      <th>9</th>\n",
       "      <td>Madagascar</td>\n",
       "      <td>43.6 °C (110.5 °F)</td>\n",
       "      <td>Ejeda, Atsimo-Andrefana</td>\n",
       "      <td>?[27]</td>\n",
       "    </tr>\n",
       "    <tr>\n",
       "      <th>10</th>\n",
       "      <td>Morocco (then the French protectorate in Morocco)</td>\n",
       "      <td>51.7 °C (125.1 °F)</td>\n",
       "      <td>Inezgane</td>\n",
       "      <td>19 August 1940[28]</td>\n",
       "    </tr>\n",
       "    <tr>\n",
       "      <th>11</th>\n",
       "      <td>Niger</td>\n",
       "      <td>49.5 °C (121.1 °F)</td>\n",
       "      <td>Diffa</td>\n",
       "      <td>7 September 1978[29]</td>\n",
       "    </tr>\n",
       "    <tr>\n",
       "      <th>12</th>\n",
       "      <td>Nigeria</td>\n",
       "      <td>46.4 °C (115.5 °F)</td>\n",
       "      <td>Yola</td>\n",
       "      <td>3 April 2010[citation needed]</td>\n",
       "    </tr>\n",
       "    <tr>\n",
       "      <th>13</th>\n",
       "      <td>Réunion</td>\n",
       "      <td>36.9 °C (98.4 °F)</td>\n",
       "      <td>Le Port</td>\n",
       "      <td>6 March 2004[30]</td>\n",
       "    </tr>\n",
       "    <tr>\n",
       "      <th>14</th>\n",
       "      <td>South Africa (then the Union of South Africa)</td>\n",
       "      <td>50.0 °C (122.0 °F)</td>\n",
       "      <td>Dunbrody, Eastern Cape</td>\n",
       "      <td>3 November 1918[31][note 1]</td>\n",
       "    </tr>\n",
       "    <tr>\n",
       "      <th>15</th>\n",
       "      <td>Sudan</td>\n",
       "      <td>49.7 °C (121.5 °F)</td>\n",
       "      <td>Dongola</td>\n",
       "      <td>25 June 2010[23]</td>\n",
       "    </tr>\n",
       "    <tr>\n",
       "      <th>16</th>\n",
       "      <td>Tunisia (then the French protectorate of Tunisia)</td>\n",
       "      <td>55 °C (131 °F)</td>\n",
       "      <td>Kebili</td>\n",
       "      <td>7 July 1931[33][note 2]</td>\n",
       "    </tr>\n",
       "    <tr>\n",
       "      <th>17</th>\n",
       "      <td>Western Sahara (then the Spanish Sahara)</td>\n",
       "      <td>50.7 °C (123.3 °F)</td>\n",
       "      <td>Semara</td>\n",
       "      <td>13 July 1961[34]</td>\n",
       "    </tr>\n",
       "    <tr>\n",
       "      <th>18</th>\n",
       "      <td>Zambia</td>\n",
       "      <td>42.4 °C (108.3 °F)</td>\n",
       "      <td>Mfuwe, Eastern Province</td>\n",
       "      <td>13 October 2010[23]</td>\n",
       "    </tr>\n",
       "  </tbody>\n",
       "</table>\n",
       "</div>"
      ],
      "text/plain": [
       "                                       Country/Region         Temperature  \\\n",
       "0                                             Algeria  51.3 °C (124.3 °F)   \n",
       "1                                            Botswana  44.0 °C (111.2 °F)   \n",
       "2                                        Burkina Faso  47.2 °C (117.0 °F)   \n",
       "3                                                Chad  47.6 °C (117.7 °F)   \n",
       "4                                             Comoros   36.0 °C (96.8 °F)   \n",
       "5                                Eswatini (Swaziland)  47.4 °C (117.3 °F)   \n",
       "6                                              Gambia  49.0 °C (120.2 °F)   \n",
       "7                                               Ghana  43.8 °C (110.8 °F)   \n",
       "8                                              Guinea  45.0 °C (113.0 °F)   \n",
       "9                                          Madagascar  43.6 °C (110.5 °F)   \n",
       "10  Morocco (then the French protectorate in Morocco)  51.7 °C (125.1 °F)   \n",
       "11                                              Niger  49.5 °C (121.1 °F)   \n",
       "12                                            Nigeria  46.4 °C (115.5 °F)   \n",
       "13                                            Réunion   36.9 °C (98.4 °F)   \n",
       "14      South Africa (then the Union of South Africa)  50.0 °C (122.0 °F)   \n",
       "15                                              Sudan  49.7 °C (121.5 °F)   \n",
       "16  Tunisia (then the French protectorate of Tunisia)      55 °C (131 °F)   \n",
       "17           Western Sahara (then the Spanish Sahara)  50.7 °C (123.3 °F)   \n",
       "18                                             Zambia  42.4 °C (108.3 °F)   \n",
       "\n",
       "                                        Town/Location  \\\n",
       "0   El Bayadh, El Bayadh ProvinceOuargla, Ouargla ...   \n",
       "1                                                Maun   \n",
       "2                                                Dori   \n",
       "3                                        Faya-Largeau   \n",
       "4                        Hahaya International Airport   \n",
       "5                                            Lavumisa   \n",
       "6                                               Jenoi   \n",
       "7                                            Navrongo   \n",
       "8                               Koundara, Boké Region   \n",
       "9                             Ejeda, Atsimo-Andrefana   \n",
       "10                                           Inezgane   \n",
       "11                                              Diffa   \n",
       "12                                               Yola   \n",
       "13                                            Le Port   \n",
       "14                             Dunbrody, Eastern Cape   \n",
       "15                                            Dongola   \n",
       "16                                             Kebili   \n",
       "17                                             Semara   \n",
       "18                            Mfuwe, Eastern Province   \n",
       "\n",
       "                                   Date  \n",
       "0   2 September 1979[18]5 July 2018[19]  \n",
       "1                7 January 2016[20][21]  \n",
       "2                              1984[22]  \n",
       "3                      22 June 2010[23]  \n",
       "4                  15 November 2017[24]  \n",
       "5                                 ?[25]  \n",
       "6                              2001[26]  \n",
       "7                     26 March 2017[24]  \n",
       "8                     29 March 2017[24]  \n",
       "9                                 ?[27]  \n",
       "10                   19 August 1940[28]  \n",
       "11                 7 September 1978[29]  \n",
       "12        3 April 2010[citation needed]  \n",
       "13                     6 March 2004[30]  \n",
       "14          3 November 1918[31][note 1]  \n",
       "15                     25 June 2010[23]  \n",
       "16              7 July 1931[33][note 2]  \n",
       "17                     13 July 1961[34]  \n",
       "18                  13 October 2010[23]  "
      ]
     },
     "execution_count": 115,
     "metadata": {},
     "output_type": "execute_result"
    }
   ],
   "source": [
    "s[0]"
   ]
  },
  {
   "cell_type": "code",
   "execution_count": 116,
   "id": "928242b7",
   "metadata": {},
   "outputs": [
    {
     "name": "stdout",
     "output_type": "stream",
     "text": [
      "[1 2 3]\n",
      "[[1 2]\n",
      " [3 4]]\n",
      "[[1 2 3 4 5]]\n",
      "[1.+0.j 2.+0.j 3.+0.j]\n"
     ]
    }
   ],
   "source": [
    "import numpy as np\n",
    "a = np.array([1,2,3])\n",
    "print(a)\n",
    "a = np.array([[1,2],[3,4]])\n",
    "print(a)\n",
    "a = np.array([1,2,3,4,5], ndmin = 2)\n",
    "print(a)\n",
    "a = np.array([1, 2, 3], dtype = complex)\n",
    "print(a)"
   ]
  },
  {
   "cell_type": "code",
   "execution_count": 117,
   "id": "b0d2064c",
   "metadata": {},
   "outputs": [
    {
     "data": {
      "text/plain": [
       "(2, 3)"
      ]
     },
     "execution_count": 117,
     "metadata": {},
     "output_type": "execute_result"
    }
   ],
   "source": [
    "a=np.array([[1,2,3],[4,5,6]])\n",
    "a.shape"
   ]
  },
  {
   "cell_type": "code",
   "execution_count": 118,
   "id": "ed3d8a3b",
   "metadata": {},
   "outputs": [
    {
     "data": {
      "text/plain": [
       "2"
      ]
     },
     "execution_count": 118,
     "metadata": {},
     "output_type": "execute_result"
    }
   ],
   "source": [
    "a.ndim #shows no. of dimensions"
   ]
  },
  {
   "cell_type": "code",
   "execution_count": 119,
   "id": "91e02e6b",
   "metadata": {},
   "outputs": [
    {
     "data": {
      "text/plain": [
       "array([[1, 2],\n",
       "       [3, 4],\n",
       "       [5, 6]])"
      ]
     },
     "execution_count": 119,
     "metadata": {},
     "output_type": "execute_result"
    }
   ],
   "source": [
    "a.shape=(3,2) #fits the array to a particular shape \n",
    "a "
   ]
  },
  {
   "cell_type": "code",
   "execution_count": 120,
   "id": "01972331",
   "metadata": {},
   "outputs": [
    {
     "data": {
      "text/plain": [
       "array([[1, 2, 3],\n",
       "       [4, 5, 6]])"
      ]
     },
     "execution_count": 120,
     "metadata": {},
     "output_type": "execute_result"
    }
   ],
   "source": [
    "b=a.reshape(2,3) #reshaping the array to fit it into a particular shape\n",
    "b"
   ]
  },
  {
   "cell_type": "code",
   "execution_count": 121,
   "id": "9469029e",
   "metadata": {},
   "outputs": [
    {
     "data": {
      "text/plain": [
       "array([ 0,  1,  2,  3,  4,  5,  6,  7,  8,  9, 10, 11, 12, 13, 14, 15, 16,\n",
       "       17, 18, 19, 20, 21, 22, 23])"
      ]
     },
     "execution_count": 121,
     "metadata": {},
     "output_type": "execute_result"
    }
   ],
   "source": [
    "a=np.arange(24) #arranges the array upto the given no.\n",
    "a"
   ]
  },
  {
   "cell_type": "code",
   "execution_count": 122,
   "id": "a568ef19",
   "metadata": {},
   "outputs": [
    {
     "data": {
      "text/plain": [
       "array([10, 12, 14, 16, 18])"
      ]
     },
     "execution_count": 122,
     "metadata": {},
     "output_type": "execute_result"
    }
   ],
   "source": [
    "x=np.arange(10,20,2) # arranges from the lower limit to the upper limit with a gap given\n",
    "x"
   ]
  },
  {
   "cell_type": "code",
   "execution_count": 123,
   "id": "8fefb18d",
   "metadata": {},
   "outputs": [
    {
     "data": {
      "text/plain": [
       "array([[[ 0,  1,  2],\n",
       "        [ 3,  4,  5],\n",
       "        [ 6,  7,  8],\n",
       "        [ 9, 10, 11]],\n",
       "\n",
       "       [[12, 13, 14],\n",
       "        [15, 16, 17],\n",
       "        [18, 19, 20],\n",
       "        [21, 22, 23]]])"
      ]
     },
     "execution_count": 123,
     "metadata": {},
     "output_type": "execute_result"
    }
   ],
   "source": [
    "b=a.reshape(2,4,3) #it makes an Array of 2 X 4 X 3\n",
    "b"
   ]
  },
  {
   "cell_type": "code",
   "execution_count": 124,
   "id": "91fe64f5",
   "metadata": {},
   "outputs": [
    {
     "name": "stdout",
     "output_type": "stream",
     "text": [
      "1\n"
     ]
    }
   ],
   "source": [
    "x=np.array([1,2,3,4,5], dtype = np.int8)\n",
    "print(x.itemsize)"
   ]
  },
  {
   "cell_type": "code",
   "execution_count": 125,
   "id": "9b168838",
   "metadata": {},
   "outputs": [
    {
     "name": "stdout",
     "output_type": "stream",
     "text": [
      "  C_CONTIGUOUS : True\n",
      "  F_CONTIGUOUS : True\n",
      "  OWNDATA : True\n",
      "  WRITEABLE : True\n",
      "  ALIGNED : True\n",
      "  WRITEBACKIFCOPY : False\n",
      "  UPDATEIFCOPY : False\n",
      "\n"
     ]
    }
   ],
   "source": [
    "x=np.array([1,2,3,4,5])\n",
    "print(x.flags)"
   ]
  },
  {
   "cell_type": "code",
   "execution_count": 126,
   "id": "6bbcbcdc",
   "metadata": {},
   "outputs": [
    {
     "name": "stdout",
     "output_type": "stream",
     "text": [
      "[[         0 1072693248]\n",
      " [         0 1073741824]\n",
      " [         0 1074266112]]\n"
     ]
    }
   ],
   "source": [
    "x=np.empty([3,2], dtype=int)\n",
    "print(x)\n",
    "# x = np.zeros(5)\n",
    "# print(x)\n",
    "# x = np.zeros((5,), dtype=int)\n",
    "# print(x)"
   ]
  },
  {
   "cell_type": "code",
   "execution_count": 127,
   "id": "d7734116",
   "metadata": {},
   "outputs": [
    {
     "data": {
      "text/plain": [
       "array([[1, 1],\n",
       "       [1, 1]])"
      ]
     },
     "execution_count": 127,
     "metadata": {},
     "output_type": "execute_result"
    }
   ],
   "source": [
    "x=np.ones([2,2], dtype=int)\n",
    "x"
   ]
  },
  {
   "cell_type": "code",
   "execution_count": 128,
   "id": "f343a6e2",
   "metadata": {},
   "outputs": [
    {
     "data": {
      "text/plain": [
       "array([1, 2, 3])"
      ]
     },
     "execution_count": 128,
     "metadata": {},
     "output_type": "execute_result"
    }
   ],
   "source": [
    "x=[1,2,3]\n",
    "a=np.asarray(x)\n",
    "a"
   ]
  },
  {
   "cell_type": "code",
   "execution_count": 129,
   "id": "76093c4f",
   "metadata": {},
   "outputs": [
    {
     "data": {
      "text/plain": [
       "array([0., 1., 2., 3., 4.])"
      ]
     },
     "execution_count": 129,
     "metadata": {},
     "output_type": "execute_result"
    }
   ],
   "source": [
    "list=range(5)\n",
    "it=iter(list)\n",
    "x=np.fromiter(it, dtype=float)\n",
    "x"
   ]
  },
  {
   "cell_type": "code",
   "execution_count": 130,
   "id": "959620e2",
   "metadata": {},
   "outputs": [
    {
     "name": "stdout",
     "output_type": "stream",
     "text": [
      "1\n",
      "2\n",
      "3\n",
      "[2 4 6]\n",
      "[2 4 6]\n"
     ]
    }
   ],
   "source": [
    "for x in np.nditer(a):\n",
    "    print(x)\n",
    "a=np.arange(10)\n",
    "s=slice(2,7,2) # slice (start ,stop , step)\n",
    "print(a[s])\n",
    "b=a[2:7:2]\n",
    "print(b)"
   ]
  },
  {
   "cell_type": "code",
   "execution_count": 131,
   "id": "f9ed8263",
   "metadata": {},
   "outputs": [
    {
     "name": "stdout",
     "output_type": "stream",
     "text": [
      "[0 1 2 3 4 5 6 7 8 9]\n",
      "The items in the second column are:\n",
      "1\n",
      "The items in the second row are:\n",
      "1\n",
      "The items column 1 onwards are:\n",
      "[1 2 3 4 5 6 7 8 9]\n"
     ]
    }
   ],
   "source": [
    "print(a)\n",
    "print('The items in the second column are:')\n",
    "print(a[...,1])\n",
    "print('The items in the second row are:')\n",
    "print(a[1,...])\n",
    "# Now we will slice all items from column 1 onwards\n",
    "print('The items column 1 onwards are:')\n",
    "print(a[...,1:])"
   ]
  },
  {
   "cell_type": "code",
   "execution_count": 132,
   "id": "b35db672",
   "metadata": {},
   "outputs": [
    {
     "name": "stdout",
     "output_type": "stream",
     "text": [
      "Array containing sine values:\n",
      "[0.         0.01745241 0.0348995  0.05233596 0.06975647 0.08715574\n",
      " 0.10452846 0.12186934 0.1391731  0.15643447]\n",
      "Compute sine inverse of angles. Returned values are in radians.\n",
      "[0.         0.01745329 0.03490659 0.05235988 0.06981317 0.08726646\n",
      " 0.10471976 0.12217305 0.13962634 0.15707963]\n"
     ]
    }
   ],
   "source": [
    "print('Array containing sine values:')\n",
    "sin=np.sin(a*np.pi/180)\n",
    "print(sin)\n",
    "print('Compute sine inverse of angles. Returned values are in radians.')\n",
    "inv=np.arcsin(sin)\n",
    "print(inv)"
   ]
  },
  {
   "cell_type": "code",
   "execution_count": 133,
   "id": "7c83ddfd",
   "metadata": {},
   "outputs": [
    {
     "name": "stdout",
     "output_type": "stream",
     "text": [
      "[0 2 2 1 1 1]\n"
     ]
    }
   ],
   "source": [
    "x=np.array([1,2,3,4,1,2,5])\n",
    "print(np.bincount(x))"
   ]
  },
  {
   "cell_type": "code",
   "execution_count": 134,
   "id": "36b27eef",
   "metadata": {},
   "outputs": [
    {
     "name": "stdout",
     "output_type": "stream",
     "text": [
      "Check result by converting to degrees:\n",
      "[0. 1. 2. 3. 4. 5. 6. 7. 8. 9.]\n",
      "arccos and arctan functions behave similarly:\n",
      "[1.         0.9998477  0.99939083 0.99862953 0.99756405 0.9961947\n",
      " 0.9945219  0.99254615 0.99026807 0.98768834]\n",
      "Inverse of cos:\n",
      "[0.         0.01745329 0.03490659 0.05235988 0.06981317 0.08726646\n",
      " 0.10471976 0.12217305 0.13962634 0.15707963]\n"
     ]
    }
   ],
   "source": [
    "print('Check result by converting to degrees:')\n",
    "print(np.degrees(inv))\n",
    "print('arccos and arctan functions behave similarly:')\n",
    "cos=np.cos(a*np.pi/180)\n",
    "print(cos)\n",
    "print('Inverse of cos:')\n",
    "inv=np.arccos(cos)\n",
    "print(inv)"
   ]
  },
  {
   "cell_type": "code",
   "execution_count": 135,
   "id": "6736c764",
   "metadata": {},
   "outputs": [
    {
     "name": "stdout",
     "output_type": "stream",
     "text": [
      "[1 2 3 4]\n"
     ]
    }
   ],
   "source": [
    "x=np.array([[1,2],[3,4]])\n",
    "print(x.flatten())"
   ]
  },
  {
   "cell_type": "code",
   "execution_count": 136,
   "id": "dd8abc01",
   "metadata": {},
   "outputs": [
    {
     "name": "stdout",
     "output_type": "stream",
     "text": [
      "[1 2 3 4]\n"
     ]
    }
   ],
   "source": [
    "x=np.array([[1,2],[3,4]])\n",
    "print(x.ravel())"
   ]
  },
  {
   "cell_type": "code",
   "execution_count": 137,
   "id": "9f38ed4f",
   "metadata": {},
   "outputs": [
    {
     "name": "stdout",
     "output_type": "stream",
     "text": [
      "Requirement already satisfied: opencv-python in c:\\users\\kiit\\anaconda3\\lib\\site-packages (4.7.0.68)\n",
      "Requirement already satisfied: numpy>=1.19.3 in c:\\users\\kiit\\anaconda3\\lib\\site-packages (from opencv-python) (1.21.5)\n",
      "Note: you may need to restart the kernel to use updated packages.\n"
     ]
    }
   ],
   "source": [
    "pip install opencv-python"
   ]
  },
  {
   "cell_type": "code",
   "execution_count": 138,
   "id": "31184161",
   "metadata": {},
   "outputs": [
    {
     "name": "stdout",
     "output_type": "stream",
     "text": [
      "<class 'numpy.ndarray'>\n",
      "(853, 1280, 3)\n",
      "[ 11 147 243]\n"
     ]
    }
   ],
   "source": [
    "import cv2 as cv\n",
    "from matplotlib import pyplot as plt\n",
    "import numpy as np\n",
    "\n",
    "img=cv.imread('image.jpeg', 1) # 1->colored, 0->grayscale, -1->unchanged\n",
    "print(type(img))\n",
    "print(img.shape)\n",
    "px=img[100,100] # pixel values of three channels\n",
    "print(px)\n",
    "\n",
    "cv.imshow('Image', img)\n",
    "cv.waitKey()\n",
    "cv.destroyAllWindows()"
   ]
  },
  {
   "cell_type": "code",
   "execution_count": 139,
   "id": "ee92aa31",
   "metadata": {},
   "outputs": [],
   "source": [
    "# displays the grayscale image\n",
    "b,g,r=cv.split(img)\n",
    "b=img[:,:,0]\n",
    "g=img[:,:,1]\n",
    "r=img[:,:,2]\n",
    "cv.imshow('Image',r)\n",
    "cv.waitKey()\n",
    "cv.destroyAllWindows()"
   ]
  },
  {
   "cell_type": "code",
   "execution_count": 140,
   "id": "15d3a59b",
   "metadata": {},
   "outputs": [],
   "source": [
    "# displays the negative grayscale image\n",
    "# a,b,c=img.shape\n",
    "# print(a,b,c)\n",
    "# for i in (0,a-1):\n",
    "#     for j in (0,b-1):\n",
    "#         for k in (0,c-1):\n",
    "#             img2[i,j,k]=255-img[i,j,k]\n",
    "b1=255-b\n",
    "g1=255-g\n",
    "r1=255-r\n",
    "img2=cv.merge((b1,g1,r1))\n",
    "cv.imshow('Image',img2)\n",
    "cv.waitKey()\n",
    "cv.destroyAllWindows()"
   ]
  },
  {
   "cell_type": "code",
   "execution_count": 141,
   "id": "9b49274d",
   "metadata": {},
   "outputs": [
    {
     "ename": "SyntaxError",
     "evalue": "invalid syntax (3480252620.py, line 1)",
     "output_type": "error",
     "traceback": [
      "\u001b[1;36m  File \u001b[1;32m\"C:\\Users\\KIIT\\AppData\\Local\\Temp\\ipykernel_25192\\3480252620.py\"\u001b[1;36m, line \u001b[1;32m1\u001b[0m\n\u001b[1;33m    b[[100:200],[100:200]]=0\u001b[0m\n\u001b[1;37m          ^\u001b[0m\n\u001b[1;31mSyntaxError\u001b[0m\u001b[1;31m:\u001b[0m invalid syntax\n"
     ]
    }
   ],
   "source": [
    "b[[100:200],[100:200]]=0\n",
    "g[[100:200],[100:200]]=0\n",
    "r[[100:200],[100:200]]=0\n",
    "img2=cv.merge((b,g,r))\n",
    "cv.imshow('Image',img2)\n",
    "cv.waitKey()\n",
    "cv.destroyAllWindows()"
   ]
  },
  {
   "cell_type": "code",
   "execution_count": null,
   "id": "b577707a",
   "metadata": {},
   "outputs": [],
   "source": []
  }
 ],
 "metadata": {
  "kernelspec": {
   "display_name": "Python 3 (ipykernel)",
   "language": "python",
   "name": "python3"
  },
  "language_info": {
   "codemirror_mode": {
    "name": "ipython",
    "version": 3
   },
   "file_extension": ".py",
   "mimetype": "text/x-python",
   "name": "python",
   "nbconvert_exporter": "python",
   "pygments_lexer": "ipython3",
   "version": "3.11.1"
  },
  "vscode": {
   "interpreter": {
    "hash": "366fc43e61dc3e1cf3ac432936cc45eb1586b2ea335d1b3e1c18de6c8b76373d"
   }
  }
 },
 "nbformat": 4,
 "nbformat_minor": 5
}
